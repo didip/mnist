{
 "cells": [
  {
   "cell_type": "code",
   "execution_count": 26,
   "metadata": {},
   "outputs": [],
   "source": [
    "import tensorflow as tf\n",
    "import matplotlib.pylab as plt\n",
    "import tensorflowjs as tfjs"
   ]
  },
  {
   "cell_type": "code",
   "execution_count": 27,
   "metadata": {},
   "outputs": [],
   "source": [
    "(x_train, y_train), (x_test, y_test) = tf.keras.datasets.mnist.load_data()"
   ]
  },
  {
   "cell_type": "code",
   "execution_count": 28,
   "metadata": {},
   "outputs": [],
   "source": [
    "x_train = x_train[:,:,:,None] / 255.\n",
    "\n",
    "validation_split = 0.05\n",
    "n_val = int(len(x_train) * validation_split)\n",
    "x_train, y_train = x_train[:-n_val], y_train[:-n_val]\n",
    "x_val, y_val = x_train[-n_val:], y_train[-n_val:]\n",
    "\n",
    "x_test = x_test[:,:,:,None] / 255.\n",
    "\n",
    "x_train[x_train > 0.5] = 1.0\n",
    "x_train[x_train <= 0.5] = 0.0\n",
    "\n",
    "x_test[x_test > 0.5] = 1.0\n",
    "x_test[x_test <= 0.5] = 0.0\n"
   ]
  },
  {
   "cell_type": "code",
   "execution_count": 29,
   "metadata": {},
   "outputs": [],
   "source": [
    "# Add preprocessing\n",
    "def pipeline(image, label):\n",
    "    image = tf.image.resize_with_crop_or_pad(image, 36, 36)\n",
    "    image = tf.image.random_crop(image, [28, 28, 1])\n",
    "    image = image + tf.random.normal(shape=image.shape, stddev=0.1, dtype=tf.float64)    \n",
    "    image = tf.clip_by_value(image, 0.0, 1.0)\n",
    "    return image, label"
   ]
  },
  {
   "cell_type": "code",
   "execution_count": 30,
   "metadata": {},
   "outputs": [],
   "source": [
    "train_ds = tf.data.Dataset.from_tensor_slices((x_train, y_train)).map(pipeline).shuffle(1000).batch(32)\n",
    "val_ds = tf.data.Dataset.from_tensor_slices((x_val, y_val)).batch(32)\n",
    "test_ds = tf.data.Dataset.from_tensor_slices((x_test, y_test)).batch(32)"
   ]
  },
  {
   "cell_type": "code",
   "execution_count": 59,
   "metadata": {},
   "outputs": [],
   "source": [
    "x = tf.keras.layers.Input(shape=[28, 28, 1])\n",
    "net = tf.keras.layers.Conv2D(filters=8, kernel_size=3, activation=\"relu\")(x)\n",
    "net = tf.keras.layers.Conv2D(filters=8, kernel_size=3, activation=\"relu\")(net)\n",
    "net = tf.keras.layers.Flatten()(net)\n",
    "net = tf.keras.layers.Dense(10)(net)\n",
    "\n",
    "model = tf.keras.Model(inputs=x, outputs=net)\n",
    "\n",
    "# model = tf.keras.Sequential([\n",
    "#     tf.keras.layers.Input(shape=[28, 28, 1]),\n",
    "#     tf.keras.layers.Conv2D(filters=8, kernel_size=3, activation=\"relu\"),\n",
    "#     tf.keras.layers.Conv2D(filters=8, kernel_size=3, activation=\"relu\"),\n",
    "#     tf.keras.layers.Flatten(),\n",
    "#     tf.keras.layers.Dense(10)\n",
    "# ])"
   ]
  },
  {
   "cell_type": "code",
   "execution_count": 60,
   "metadata": {},
   "outputs": [],
   "source": [
    "loss = tf.keras.losses.SparseCategoricalCrossentropy(from_logits=True)"
   ]
  },
  {
   "cell_type": "code",
   "execution_count": 61,
   "metadata": {},
   "outputs": [],
   "source": [
    "model.compile(\n",
    "    optimizer='adam', \n",
    "    loss=loss,\n",
    "    metrics=['accuracy']\n",
    ")"
   ]
  },
  {
   "cell_type": "code",
   "execution_count": 62,
   "metadata": {},
   "outputs": [
    {
     "name": "stdout",
     "output_type": "stream",
     "text": [
      "Train for 1782 steps, validate for 94 steps\n",
      "Epoch 1/5\n",
      "1782/1782 [==============================] - 27s 15ms/step - loss: 0.6798 - accuracy: 0.7826 - val_loss: 0.2336 - val_accuracy: 0.9323\n",
      "Epoch 2/5\n",
      "1782/1782 [==============================] - 26s 14ms/step - loss: 0.3979 - accuracy: 0.8812 - val_loss: 0.2050 - val_accuracy: 0.9400\n",
      "Epoch 3/5\n",
      "1782/1782 [==============================] - 28s 16ms/step - loss: 0.3345 - accuracy: 0.9002 - val_loss: 0.1941 - val_accuracy: 0.9407\n",
      "Epoch 4/5\n",
      "1782/1782 [==============================] - 27s 15ms/step - loss: 0.2996 - accuracy: 0.9093 - val_loss: 0.1883 - val_accuracy: 0.9420\n",
      "Epoch 5/5\n",
      "1782/1782 [==============================] - 27s 15ms/step - loss: 0.2754 - accuracy: 0.9178 - val_loss: 0.1245 - val_accuracy: 0.9610\n"
     ]
    },
    {
     "data": {
      "text/plain": [
       "<tensorflow.python.keras.callbacks.History at 0x13d282908>"
      ]
     },
     "execution_count": 62,
     "metadata": {},
     "output_type": "execute_result"
    }
   ],
   "source": [
    "model.fit(train_ds, epochs=5, validation_data=val_ds)"
   ]
  },
  {
   "cell_type": "code",
   "execution_count": 63,
   "metadata": {},
   "outputs": [
    {
     "name": "stdout",
     "output_type": "stream",
     "text": [
      "313/313 [==============================] - 1s 4ms/step - loss: 0.1454 - accuracy: 0.9560\n"
     ]
    },
    {
     "data": {
      "text/plain": [
       "[0.14542734614624003, 0.956]"
      ]
     },
     "execution_count": 63,
     "metadata": {},
     "output_type": "execute_result"
    }
   ],
   "source": [
    "model.evaluate(test_ds)"
   ]
  },
  {
   "cell_type": "code",
   "execution_count": 64,
   "metadata": {},
   "outputs": [],
   "source": [
    "predictions = tf.keras.Sequential([model, \n",
    "                                   tf.keras.layers.Softmax()])"
   ]
  },
  {
   "cell_type": "code",
   "execution_count": 65,
   "metadata": {},
   "outputs": [
    {
     "name": "stdout",
     "output_type": "stream",
     "text": [
      "WARNING:tensorflow:Layer conv2d_4 is casting an input tensor from dtype float64 to the layer's dtype of float32, which is new behavior in TensorFlow 2.  The layer has dtype float32 because it's dtype defaults to floatx.\n",
      "\n",
      "If you intended to run this layer in float32, you can safely ignore this warning. If in doubt, this warning is likely only an issue if you are porting a TensorFlow 1.X model to TensorFlow 2.\n",
      "\n",
      "To change all layers to have dtype float64 by default, call `tf.keras.backend.set_floatx('float64')`. To change just this layer, pass dtype='float64' to the layer constructor. If you are the author of this layer, you can disable autocasting by passing autocast=False to the base Layer constructor.\n",
      "\n"
     ]
    }
   ],
   "source": [
    "p = predictions(x_test[0:10]).numpy()"
   ]
  },
  {
   "cell_type": "code",
   "execution_count": 66,
   "metadata": {},
   "outputs": [
    {
     "data": {
      "text/plain": [
       "array([7, 2, 1, 0, 4, 1, 4, 4, 5, 9])"
      ]
     },
     "execution_count": 66,
     "metadata": {},
     "output_type": "execute_result"
    }
   ],
   "source": [
    "p.argmax(axis=1)"
   ]
  },
  {
   "cell_type": "code",
   "execution_count": 67,
   "metadata": {},
   "outputs": [
    {
     "data": {
      "text/plain": [
       "array([7, 2, 1, 0, 4, 1, 4, 9, 5, 9], dtype=uint8)"
      ]
     },
     "execution_count": 67,
     "metadata": {},
     "output_type": "execute_result"
    }
   ],
   "source": [
    "y_test[0:10]"
   ]
  },
  {
   "cell_type": "code",
   "execution_count": 68,
   "metadata": {},
   "outputs": [],
   "source": [
    "result = predictions.predict(x_test)"
   ]
  },
  {
   "cell_type": "code",
   "execution_count": 69,
   "metadata": {},
   "outputs": [
    {
     "data": {
      "image/png": "[encoded data removed]",
      "text/plain": [
       "<Figure size 432x288 with 1 Axes>"
      ]
     },
     "metadata": {
      "needs_background": "light"
     },
     "output_type": "display_data"
    },
    {
     "data": {
      "image/png": "[encoded data removed]",
      "text/plain": [
       "<Figure size 432x288 with 1 Axes>"
      ]
     },
     "metadata": {
      "needs_background": "light"
     },
     "output_type": "display_data"
    },
    {
     "data": {
      "image/png": "[encoded data removed]",
      "text/plain": [
       "<Figure size 432x288 with 1 Axes>"
      ]
     },
     "metadata": {
      "needs_background": "light"
     },
     "output_type": "display_data"
    }
   ],
   "source": [
    "def plot_im_prediction(i):\n",
    "    im = x_test[i]\n",
    "    label = y_test[i]\n",
    "    pred = predictions(im[None, :, :, :]).numpy().argmax(axis=1)[0]\n",
    "\n",
    "    plt.imshow(im[:,:,0], cmap='gray')\n",
    "    plt.tight_layout()\n",
    "    plt.xlabel(\"Prediction: {}. Actual: {}\".format(pred, label))\n",
    "    plt.show()\n",
    "    \n",
    "plot_im_prediction(100)\n",
    "plot_im_prediction(101)\n",
    "plot_im_prediction(102)"
   ]
  },
  {
   "cell_type": "markdown",
   "metadata": {},
   "source": [
    "### Save model in javascript format\n"
   ]
  },
  {
   "cell_type": "code",
   "execution_count": 71,
   "metadata": {},
   "outputs": [],
   "source": [
    "tfjs.converters.save_keras_model(model, \"./\")"
   ]
  },
  {
   "cell_type": "code",
   "execution_count": null,
   "metadata": {},
   "outputs": [],
   "source": [
    "    "
   ]
  }
 ],
 "metadata": {
  "kernelspec": {
   "display_name": "tf2",
   "language": "python",
   "name": "tf2"
  },
  "language_info": {
   "codemirror_mode": {
    "name": "ipython",
    "version": 3
   },
   "file_extension": ".py",
   "mimetype": "text/x-python",
   "name": "python",
   "nbconvert_exporter": "python",
   "pygments_lexer": "ipython3",
   "version": "3.6.3"
  }
 },
 "nbformat": 4,
 "nbformat_minor": 4
}
